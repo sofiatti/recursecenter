{
 "metadata": {
  "name": "",
  "signature": "sha256:a79f125320a79a34f86c49cf36823817046049fc95bcb87b9e3429470402a690"
 },
 "nbformat": 3,
 "nbformat_minor": 0,
 "worksheets": [
  {
   "cells": [
    {
     "cell_type": "markdown",
     "metadata": {},
     "source": [
      "# Interview Cake Question\n",
      "\n",
      "Writing coding interview questions hasn't made me rich. Maybe trading Apple stocks will.\n",
      "I have an array stock_prices_yesterday where:\n",
      "\n",
      "The indices are the time in minutes past trade opening time, which was 9:30am local time.\n",
      "The values are the price in dollars of Apple stock at that time.\n",
      "For example, the stock cost $500 at 10:30am, so stock_prices_yesterday[60] = 500.\n",
      "\n",
      "Write an efficient algorithm for computing the best profit I could have made from 1 purchase and 1 sale of 1 Apple stock yesterday.\n",
      "\n",
      "No \"shorting\"\u2014you must buy before you sell. You may not buy and sell in the same time step (at least 1 minute must pass)."
     ]
    },
    {
     "cell_type": "code",
     "collapsed": false,
     "input": [
      "# Stock Market: 9:30am to 4pm (TOTAL 6.5h x 60min/h = 3630 min)"
     ],
     "language": "python",
     "metadata": {},
     "outputs": []
    },
    {
     "cell_type": "code",
     "collapsed": false,
     "input": [
      "import numpy as np\n",
      "\n",
      "def get_size_array(start_time, end_time):\n",
      "    # Hour. Military inspired. Ex, 9:30am = 9.5 & 4pm = 16\n",
      "    total_min = (end_time - start_time)*60 \n",
      "    return total_min + 1\n",
      "\n",
      "def sample_array(size):\n",
      "    sample_stock_prices = np.ones(size)*500\n",
      "    sample_stock_prices += np.random.normal(0, 30, size)\n",
      "    return sample_stock_prices \n",
      "\n",
      "def profit():\n",
      "    stock_array_size = get_size_array(9.5, 16)\n",
      "    stock_prices_yesterday = sample_array(stock_array_size)\n",
      "    #print stock_prices_yesterday\n",
      "    #print np.size(stock_prices_yesterday)\n",
      "    min = np.where(stock_prices_yesterday == stock_prices_yesterday.min())\n",
      "    max = np.where(stock_prices_yesterday == stock_prices_yesterday.max())\n",
      "    if len(min) == 1 & len(max) == 1:\n",
      "        print 'working'\n",
      "    print min[0]\n",
      "    print max[0]\n",
      "\n"
     ],
     "language": "python",
     "metadata": {},
     "outputs": [],
     "prompt_number": 20
    },
    {
     "cell_type": "code",
     "collapsed": false,
     "input": [
      "profit()"
     ],
     "language": "python",
     "metadata": {},
     "outputs": [
      {
       "output_type": "stream",
       "stream": "stdout",
       "text": [
        "working\n",
        "[197]\n",
        "[289]\n"
       ]
      }
     ],
     "prompt_number": 21
    },
    {
     "cell_type": "markdown",
     "metadata": {},
     "source": [
      "# Strategy: \n",
      "\n",
      "Look for min value, look for max value. If index of min value is larger than index of max value, pop min value out of the array. "
     ]
    },
    {
     "cell_type": "code",
     "collapsed": false,
     "input": [
      "#testing\n",
      "\n",
      "how_many_min(9.5, 9.75)"
     ],
     "language": "python",
     "metadata": {},
     "outputs": [
      {
       "metadata": {},
       "output_type": "pyout",
       "prompt_number": 6,
       "text": [
        "16.0"
       ]
      }
     ],
     "prompt_number": 6
    },
    {
     "cell_type": "code",
     "collapsed": false,
     "input": [],
     "language": "python",
     "metadata": {},
     "outputs": []
    }
   ],
   "metadata": {}
  }
 ]
}